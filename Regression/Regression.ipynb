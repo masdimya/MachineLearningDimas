{
 "cells": [
  {
   "cell_type": "markdown",
   "metadata": {},
   "source": [
    "# Regression\n",
    "\n",
    "Salah satu metode supervised learning dalam machine learning adalah Regression. Regression bertujuan untuk memprediksi nilai real dari beberapa fitur.\n",
    "\n",
    "## Linier Regression\n",
    "Linier Regression merupakan metode regresi yang memprediksi hasil dengan membentuk garis linier. \n",
    "\n",
    "### Simple Linier Regression\n",
    "\n",
    "Simple Linier Regression digunakan untuk memprediksi hasil dimana fitur yang terdapat dalam data hanya 1 \n",
    "\n",
    "![title](math.svg)\n",
    "\n",
    "##### Keterangan:\n",
    "w0 : Intercept \n",
    "w1 : Coefficients\n",
    "x : Input \n",
    "\n",
    "\n",
    "Untuk menentukan hasil prediksi, hal pertaam yang dilakukan adalah dengan melakukan training terhadap data yang ada. Proses training memerlukan nilai dari intercept dan coefficients terlebih dahulu. Formula yang digunakan untuk mencari Intercept dan coefficients sebagai berikut : \n",
    "\n",
    "\n",
    "w0 dan w1 dapat dicari dari varian dan covarian data yang dimiliki. \n",
    "\n",
    "\n",
    "![title](https://render.githubusercontent.com/render/math?math=%5Cbegin%7Beqnarray%7D%0Avar%28x%29%26amp%3B%3D%26amp%3B%5Cfrac%7B%5Csum_%7Bi%3D1%7D%5E%7Bn%7D%28x_i-%5Cbar%7Bx%7D%29%5E2%7D%7Bn-1%7D%5C%5C%0Acov%28x%2Cy%29%26amp%3B%3D%26amp%3B%5Cfrac%7B%5Csum_%7Bi%3D1%7D%5E%7Bn%7D%28x_i-%5Cbar%7Bx%7D%29%28y_i-%5Cbar%7By%7D%29%7D%7Bn-1%7D%5C%5C%0A%5Cend%7Beqnarray%7D&mode=display)\n",
    "\n",
    "\n",
    "maka koefisien dan intercept dari model regressi linear adalah :  \n",
    "\n",
    "![title](https://render.githubusercontent.com/render/math?math=%5Cbegin%7Beqnarray%7D%0Aw_1%26amp%3B%3D%26amp%3B%5Cfrac%7Bcov%28x%2Cy%29%7D%7Bvar%28x%29%7D%5C%0Aw_0%26amp%3B%3D%26amp%3B%5Cbar%7By%7D-w_1%5Cbar%7Bx%7D%0A%5Cend%7Beqnarray%7D&mode=display)\n",
    "\n",
    "\n",
    "\n",
    "\n",
    "\n",
    "\n",
    "\n",
    "### Multivariate Linear Regression\n",
    "Multivariate Linier Regression digunakan untuk memprediksi hasil dimana fitur yang terdapat dalam data lebih dari 1\n",
    "\n",
    "![title](math2.svg) \n",
    "\n",
    "Pencarian paramater tersebut membutuhkan :\n",
    "\n",
    "* loss function\n",
    "* meminimalkan loss function\n",
    "\n",
    "#### Loss Function : \n",
    "\n",
    "![title](https://render.githubusercontent.com/render/math?math=%5Cbegin%7Beqnarray%7D%0AJ%26lt%3Bem%26gt%3Bn%28w%29%3D%5Cfrac%7B1%7D%7Bn%7D%5Csum%26lt%3B%2Fem%26gt%3B%7Bi%3D1%7D%5E%7Bn%7D%28y_i-f%28x_i%3Bw%29%29%5E2%0A%5Cend%7Beqnarray%7D&mode=display)\n",
    "\n",
    "#### Gradient Descent :\n",
    "\n",
    "Dalam mencari nilai coefficients dapat dilakukan dengan meminimalkan nilai error dengan menggunakan Gradient Descent.\n",
    "\n",
    "![title](https://render.githubusercontent.com/render/math?math=%5Cbegin%7Beqnarray%7D%0Aw%26amp%3B%3D%26amp%3B%28X%5ETX%29%5E%7B-1%7DX%5ETy%0A%5Cend%7Beqnarray%7D&mode=display)\n"
   ]
  },
  {
   "cell_type": "code",
   "execution_count": null,
   "metadata": {
    "collapsed": true
   },
   "outputs": [],
   "source": []
  },
  {
   "cell_type": "code",
   "execution_count": null,
   "metadata": {
    "collapsed": true
   },
   "outputs": [],
   "source": []
  }
 ],
 "metadata": {
  "kernelspec": {
   "display_name": "Python 3",
   "language": "python",
   "name": "python3"
  },
  "language_info": {
   "codemirror_mode": {
    "name": "ipython",
    "version": 3
   },
   "file_extension": ".py",
   "mimetype": "text/x-python",
   "name": "python",
   "nbconvert_exporter": "python",
   "pygments_lexer": "ipython3",
   "version": "3.6.1"
  }
 },
 "nbformat": 4,
 "nbformat_minor": 2
}
